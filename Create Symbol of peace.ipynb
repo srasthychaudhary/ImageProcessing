{
 "cells": [
  {
   "cell_type": "code",
   "execution_count": 1,
   "id": "3112f3ad",
   "metadata": {},
   "outputs": [],
   "source": [
    "import cv2 \n",
    "import numpy as np"
   ]
  },
  {
   "cell_type": "code",
   "execution_count": 3,
   "id": "357681d5",
   "metadata": {},
   "outputs": [],
   "source": [
    "#Let's create a symbol of peace\n",
    "\n",
    "img =  np.zeros((700, 900, 3))\n",
    "\n",
    "color = (255, 0, 0)\n",
    "center_coordinates = 450, 400      #distance from left , distance from top\n",
    "thickness = 8\n",
    "radius = 200\n",
    "img = cv2.circle( img,  center_coordinates, radius, color, thickness)\n",
    "\n",
    "start_point = 450, 600\n",
    "end_point = 450, 200\n",
    "color = (250, 0, 0)\n",
    "thickness = 8\n",
    "img = cv2.line(img, start_point, end_point, color, thickness)\n",
    "\n",
    "start_point = 450, 400\n",
    "end_point = 280, 500\n",
    "color = (250, 0, 0)\n",
    "thickness = 8\n",
    "img = cv2.line(img, start_point, end_point, color, thickness)\n",
    "\n",
    "start_point = 450, 400\n",
    "end_point = 620, 500\n",
    "color = (250, 0, 0)\n",
    "thickness = 8\n",
    "img = cv2.line(img, start_point, end_point, color, thickness)\n",
    "\n",
    "cv2.imshow('Peace', img)\n",
    "cv2.waitKey()\n",
    "cv2.destroyAllWindows()"
   ]
  },
  {
   "cell_type": "code",
   "execution_count": null,
   "id": "4354a920",
   "metadata": {},
   "outputs": [],
   "source": []
  }
 ],
 "metadata": {
  "kernelspec": {
   "display_name": "Python 3",
   "language": "python",
   "name": "python3"
  },
  "language_info": {
   "codemirror_mode": {
    "name": "ipython",
    "version": 3
   },
   "file_extension": ".py",
   "mimetype": "text/x-python",
   "name": "python",
   "nbconvert_exporter": "python",
   "pygments_lexer": "ipython3",
   "version": "3.6.13"
  }
 },
 "nbformat": 4,
 "nbformat_minor": 5
}
