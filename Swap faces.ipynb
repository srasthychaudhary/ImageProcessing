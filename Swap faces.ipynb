{
 "cells": [
  {
   "cell_type": "code",
   "execution_count": 1,
   "metadata": {},
   "outputs": [],
   "source": [
    "import cv2 \n",
    "import numpy as np"
   ]
  },
  {
   "cell_type": "code",
   "execution_count": 2,
   "metadata": {},
   "outputs": [],
   "source": [
    "#original image 1\n",
    "Sid = cv2.imread('s.jpg')\n",
    "\n",
    "cv2.imshow(\"Sid\", Sid)\n",
    "cv2.waitKey()\n",
    "cv2.destroyAllWindows()"
   ]
  },
  {
   "cell_type": "code",
   "execution_count": 3,
   "metadata": {},
   "outputs": [],
   "source": [
    "#original image 2\n",
    "Akki = cv2.imread('a.jpg')\n",
    "\n",
    "cv2.imshow(\"Akki\", Akki)\n",
    "cv2.waitKey()\n",
    "cv2.destroyAllWindows()"
   ]
  },
  {
   "cell_type": "code",
   "execution_count": 4,
   "metadata": {},
   "outputs": [],
   "source": [
    "#resize images\n",
    "sid = cv2.resize(cv2.imread('s.jpg') , (400,400))\n",
    "akki = cv2.resize(cv2.imread('a.jpg') , (400,400))\n",
    "\n",
    "#swap face \n",
    "sid[10:200 , 50:280] = akki[10:200 , 50:280]\n",
    "cv2.imshow(\"akkiface\", sid)\n",
    "cv2.waitKey()\n",
    "cv2.destroyAllWindows()"
   ]
  }
 ],
 "metadata": {
  "kernelspec": {
   "display_name": "Python 3",
   "language": "python",
   "name": "python3"
  },
  "language_info": {
   "codemirror_mode": {
    "name": "ipython",
    "version": 3
   },
   "file_extension": ".py",
   "mimetype": "text/x-python",
   "name": "python",
   "nbconvert_exporter": "python",
   "pygments_lexer": "ipython3",
   "version": "3.6.13"
  }
 },
 "nbformat": 4,
 "nbformat_minor": 4
}
