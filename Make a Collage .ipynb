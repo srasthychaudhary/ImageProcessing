{
 "cells": [
  {
   "cell_type": "code",
   "execution_count": 2,
   "id": "df45f6d9",
   "metadata": {},
   "outputs": [],
   "source": [
    "import cv2 \n",
    "import numpy as np"
   ]
  },
  {
   "cell_type": "code",
   "execution_count": 3,
   "id": "611cf264",
   "metadata": {},
   "outputs": [],
   "source": [
    "#original image 1\n",
    "Sid = cv2.imread('s.jpg')\n",
    "\n",
    "cv2.imshow(\"Sid\", Sid)\n",
    "cv2.waitKey()\n",
    "cv2.destroyAllWindows()"
   ]
  },
  {
   "cell_type": "code",
   "execution_count": 4,
   "id": "e6ec4525",
   "metadata": {},
   "outputs": [],
   "source": [
    "#original image 2\n",
    "Akki = cv2.imread('a.jpg')\n",
    "\n",
    "cv2.imshow(\"Akki\", Akki)\n",
    "cv2.waitKey()\n",
    "cv2.destroyAllWindows()"
   ]
  },
  {
   "cell_type": "code",
   "execution_count": 5,
   "id": "0ec417f0",
   "metadata": {},
   "outputs": [],
   "source": [
    "#make a collage by horizontal concat\n",
    "collage = cv2.hconcat([Sid , Akki])\n",
    "\n",
    "cv2.imshow(\"SidFace\" , collage)\n",
    "cv2.waitKey()\n",
    "cv2.destroyAllWindows()"
   ]
  },
  {
   "cell_type": "code",
   "execution_count": null,
   "id": "22283aa2",
   "metadata": {},
   "outputs": [],
   "source": []
  }
 ],
 "metadata": {
  "kernelspec": {
   "display_name": "Python 3",
   "language": "python",
   "name": "python3"
  },
  "language_info": {
   "codemirror_mode": {
    "name": "ipython",
    "version": 3
   },
   "file_extension": ".py",
   "mimetype": "text/x-python",
   "name": "python",
   "nbconvert_exporter": "python",
   "pygments_lexer": "ipython3",
   "version": "3.6.13"
  }
 },
 "nbformat": 4,
 "nbformat_minor": 5
}
